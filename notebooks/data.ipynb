{
 "cells": [
  {
   "cell_type": "code",
   "execution_count": 4,
   "metadata": {},
   "outputs": [
    {
     "name": "stdout",
     "output_type": "stream",
     "text": [
      "The autoreload extension is already loaded. To reload it, use:\n",
      "  %reload_ext autoreload\n"
     ]
    }
   ],
   "source": [
    "%load_ext autoreload\n",
    "%autoreload 2"
   ]
  },
  {
   "cell_type": "code",
   "execution_count": 42,
   "metadata": {},
   "outputs": [
    {
     "data": {
      "text/plain": [
       "{'pandaset': {'001-003': '::2'}}"
      ]
     },
     "execution_count": 42,
     "metadata": {},
     "output_type": "execute_result"
    }
   ],
   "source": [
    "from src.data import read_data_tree, read_yaml\n",
    "from pathlib import Path\n",
    "\n",
    "data_path = Path('./notebooks/example_tree.yml')\n",
    "data_tree = read_yaml(data_path)[\"data_tree\"]\n",
    "data_tree"
   ]
  },
  {
   "cell_type": "code",
   "execution_count": 43,
   "metadata": {},
   "outputs": [
    {
     "data": {
      "text/plain": [
       "{'pandaset': {'001': (None, None, 2),\n",
       "  '002': (None, None, 2),\n",
       "  '003': (None, None, 2)}}"
      ]
     },
     "execution_count": 43,
     "metadata": {},
     "output_type": "execute_result"
    }
   ],
   "source": [
    "parsed_data_tree = read_data_tree(data_tree)\n",
    "parsed_data_tree"
   ]
  },
  {
   "cell_type": "code",
   "execution_count": 44,
   "metadata": {},
   "outputs": [],
   "source": [
    "from src.data import info_getter_builders, data_getter_builders\n",
    "\n",
    "\n",
    "info_getter = info_getter_builders[\"pandaset\"]()"
   ]
  },
  {
   "cell_type": "code",
   "execution_count": 46,
   "metadata": {},
   "outputs": [
    {
     "data": {
      "text/plain": [
       "[SampleInfo(dataset='pandaset', scene='001', sample='00'),\n",
       " SampleInfo(dataset='pandaset', scene='001', sample='02'),\n",
       " SampleInfo(dataset='pandaset', scene='001', sample='04'),\n",
       " SampleInfo(dataset='pandaset', scene='001', sample='06'),\n",
       " SampleInfo(dataset='pandaset', scene='001', sample='08'),\n",
       " SampleInfo(dataset='pandaset', scene='001', sample='10'),\n",
       " SampleInfo(dataset='pandaset', scene='001', sample='12'),\n",
       " SampleInfo(dataset='pandaset', scene='001', sample='14'),\n",
       " SampleInfo(dataset='pandaset', scene='001', sample='16'),\n",
       " SampleInfo(dataset='pandaset', scene='001', sample='18'),\n",
       " SampleInfo(dataset='pandaset', scene='001', sample='20'),\n",
       " SampleInfo(dataset='pandaset', scene='001', sample='22'),\n",
       " SampleInfo(dataset='pandaset', scene='001', sample='24'),\n",
       " SampleInfo(dataset='pandaset', scene='001', sample='26'),\n",
       " SampleInfo(dataset='pandaset', scene='001', sample='28'),\n",
       " SampleInfo(dataset='pandaset', scene='001', sample='30'),\n",
       " SampleInfo(dataset='pandaset', scene='001', sample='32'),\n",
       " SampleInfo(dataset='pandaset', scene='001', sample='34'),\n",
       " SampleInfo(dataset='pandaset', scene='001', sample='36'),\n",
       " SampleInfo(dataset='pandaset', scene='001', sample='38'),\n",
       " SampleInfo(dataset='pandaset', scene='001', sample='40'),\n",
       " SampleInfo(dataset='pandaset', scene='001', sample='42'),\n",
       " SampleInfo(dataset='pandaset', scene='001', sample='44'),\n",
       " SampleInfo(dataset='pandaset', scene='001', sample='46'),\n",
       " SampleInfo(dataset='pandaset', scene='001', sample='48'),\n",
       " SampleInfo(dataset='pandaset', scene='001', sample='50'),\n",
       " SampleInfo(dataset='pandaset', scene='001', sample='52'),\n",
       " SampleInfo(dataset='pandaset', scene='001', sample='54'),\n",
       " SampleInfo(dataset='pandaset', scene='001', sample='56'),\n",
       " SampleInfo(dataset='pandaset', scene='001', sample='58'),\n",
       " SampleInfo(dataset='pandaset', scene='001', sample='60'),\n",
       " SampleInfo(dataset='pandaset', scene='001', sample='62'),\n",
       " SampleInfo(dataset='pandaset', scene='001', sample='64'),\n",
       " SampleInfo(dataset='pandaset', scene='001', sample='66'),\n",
       " SampleInfo(dataset='pandaset', scene='001', sample='68'),\n",
       " SampleInfo(dataset='pandaset', scene='001', sample='70'),\n",
       " SampleInfo(dataset='pandaset', scene='001', sample='72'),\n",
       " SampleInfo(dataset='pandaset', scene='001', sample='74'),\n",
       " SampleInfo(dataset='pandaset', scene='001', sample='76'),\n",
       " SampleInfo(dataset='pandaset', scene='001', sample='78'),\n",
       " SampleInfo(dataset='pandaset', scene='002', sample='00'),\n",
       " SampleInfo(dataset='pandaset', scene='002', sample='02'),\n",
       " SampleInfo(dataset='pandaset', scene='002', sample='04'),\n",
       " SampleInfo(dataset='pandaset', scene='002', sample='06'),\n",
       " SampleInfo(dataset='pandaset', scene='002', sample='08'),\n",
       " SampleInfo(dataset='pandaset', scene='002', sample='10'),\n",
       " SampleInfo(dataset='pandaset', scene='002', sample='12'),\n",
       " SampleInfo(dataset='pandaset', scene='002', sample='14'),\n",
       " SampleInfo(dataset='pandaset', scene='002', sample='16'),\n",
       " SampleInfo(dataset='pandaset', scene='002', sample='18'),\n",
       " SampleInfo(dataset='pandaset', scene='002', sample='20'),\n",
       " SampleInfo(dataset='pandaset', scene='002', sample='22'),\n",
       " SampleInfo(dataset='pandaset', scene='002', sample='24'),\n",
       " SampleInfo(dataset='pandaset', scene='002', sample='26'),\n",
       " SampleInfo(dataset='pandaset', scene='002', sample='28'),\n",
       " SampleInfo(dataset='pandaset', scene='002', sample='30'),\n",
       " SampleInfo(dataset='pandaset', scene='002', sample='32'),\n",
       " SampleInfo(dataset='pandaset', scene='002', sample='34'),\n",
       " SampleInfo(dataset='pandaset', scene='002', sample='36'),\n",
       " SampleInfo(dataset='pandaset', scene='002', sample='38'),\n",
       " SampleInfo(dataset='pandaset', scene='002', sample='40'),\n",
       " SampleInfo(dataset='pandaset', scene='002', sample='42'),\n",
       " SampleInfo(dataset='pandaset', scene='002', sample='44'),\n",
       " SampleInfo(dataset='pandaset', scene='002', sample='46'),\n",
       " SampleInfo(dataset='pandaset', scene='002', sample='48'),\n",
       " SampleInfo(dataset='pandaset', scene='002', sample='50'),\n",
       " SampleInfo(dataset='pandaset', scene='002', sample='52'),\n",
       " SampleInfo(dataset='pandaset', scene='002', sample='54'),\n",
       " SampleInfo(dataset='pandaset', scene='002', sample='56'),\n",
       " SampleInfo(dataset='pandaset', scene='002', sample='58'),\n",
       " SampleInfo(dataset='pandaset', scene='002', sample='60'),\n",
       " SampleInfo(dataset='pandaset', scene='002', sample='62'),\n",
       " SampleInfo(dataset='pandaset', scene='002', sample='64'),\n",
       " SampleInfo(dataset='pandaset', scene='002', sample='66'),\n",
       " SampleInfo(dataset='pandaset', scene='002', sample='68'),\n",
       " SampleInfo(dataset='pandaset', scene='002', sample='70'),\n",
       " SampleInfo(dataset='pandaset', scene='002', sample='72'),\n",
       " SampleInfo(dataset='pandaset', scene='002', sample='74'),\n",
       " SampleInfo(dataset='pandaset', scene='002', sample='76'),\n",
       " SampleInfo(dataset='pandaset', scene='002', sample='78'),\n",
       " SampleInfo(dataset='pandaset', scene='003', sample='00'),\n",
       " SampleInfo(dataset='pandaset', scene='003', sample='02'),\n",
       " SampleInfo(dataset='pandaset', scene='003', sample='04'),\n",
       " SampleInfo(dataset='pandaset', scene='003', sample='06'),\n",
       " SampleInfo(dataset='pandaset', scene='003', sample='08'),\n",
       " SampleInfo(dataset='pandaset', scene='003', sample='10'),\n",
       " SampleInfo(dataset='pandaset', scene='003', sample='12'),\n",
       " SampleInfo(dataset='pandaset', scene='003', sample='14'),\n",
       " SampleInfo(dataset='pandaset', scene='003', sample='16'),\n",
       " SampleInfo(dataset='pandaset', scene='003', sample='18'),\n",
       " SampleInfo(dataset='pandaset', scene='003', sample='20'),\n",
       " SampleInfo(dataset='pandaset', scene='003', sample='22'),\n",
       " SampleInfo(dataset='pandaset', scene='003', sample='24'),\n",
       " SampleInfo(dataset='pandaset', scene='003', sample='26'),\n",
       " SampleInfo(dataset='pandaset', scene='003', sample='28'),\n",
       " SampleInfo(dataset='pandaset', scene='003', sample='30'),\n",
       " SampleInfo(dataset='pandaset', scene='003', sample='32'),\n",
       " SampleInfo(dataset='pandaset', scene='003', sample='34'),\n",
       " SampleInfo(dataset='pandaset', scene='003', sample='36'),\n",
       " SampleInfo(dataset='pandaset', scene='003', sample='38'),\n",
       " SampleInfo(dataset='pandaset', scene='003', sample='40'),\n",
       " SampleInfo(dataset='pandaset', scene='003', sample='42'),\n",
       " SampleInfo(dataset='pandaset', scene='003', sample='44'),\n",
       " SampleInfo(dataset='pandaset', scene='003', sample='46'),\n",
       " SampleInfo(dataset='pandaset', scene='003', sample='48'),\n",
       " SampleInfo(dataset='pandaset', scene='003', sample='50'),\n",
       " SampleInfo(dataset='pandaset', scene='003', sample='52'),\n",
       " SampleInfo(dataset='pandaset', scene='003', sample='54'),\n",
       " SampleInfo(dataset='pandaset', scene='003', sample='56'),\n",
       " SampleInfo(dataset='pandaset', scene='003', sample='58'),\n",
       " SampleInfo(dataset='pandaset', scene='003', sample='60'),\n",
       " SampleInfo(dataset='pandaset', scene='003', sample='62'),\n",
       " SampleInfo(dataset='pandaset', scene='003', sample='64'),\n",
       " SampleInfo(dataset='pandaset', scene='003', sample='66'),\n",
       " SampleInfo(dataset='pandaset', scene='003', sample='68'),\n",
       " SampleInfo(dataset='pandaset', scene='003', sample='70'),\n",
       " SampleInfo(dataset='pandaset', scene='003', sample='72'),\n",
       " SampleInfo(dataset='pandaset', scene='003', sample='74'),\n",
       " SampleInfo(dataset='pandaset', scene='003', sample='76'),\n",
       " SampleInfo(dataset='pandaset', scene='003', sample='78')]"
      ]
     },
     "execution_count": 46,
     "metadata": {},
     "output_type": "execute_result"
    }
   ],
   "source": [
    "info_getter.parse_tree(Path(\"/home/s0001900/dev/datasets/pandaset\"), parsed_data_tree)"
   ]
  },
  {
   "cell_type": "code",
   "execution_count": null,
   "metadata": {},
   "outputs": [],
   "source": []
  }
 ],
 "metadata": {
  "kernelspec": {
   "display_name": ".venv",
   "language": "python",
   "name": "python3"
  },
  "language_info": {
   "codemirror_mode": {
    "name": "ipython",
    "version": 3
   },
   "file_extension": ".py",
   "mimetype": "text/x-python",
   "name": "python",
   "nbconvert_exporter": "python",
   "pygments_lexer": "ipython3",
   "version": "3.10.12"
  }
 },
 "nbformat": 4,
 "nbformat_minor": 2
}
