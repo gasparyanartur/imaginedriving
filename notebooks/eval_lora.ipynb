{
 "cells": [
  {
   "cell_type": "code",
   "execution_count": null,
   "metadata": {},
   "outputs": [],
   "source": [
    "%cd ~/dev/imaginedriving"
   ]
  },
  {
   "cell_type": "code",
   "execution_count": null,
   "metadata": {},
   "outputs": [],
   "source": [
    "import argparse\n",
    "from pathlib import Path\n",
    "\n",
    "from src.data import save_json, read_data_tree, DynamicDataset, setup_project\n",
    "from src.benchmark import run_benchmark_suite\n"
   ]
  },
  {
   "cell_type": "code",
   "execution_count": null,
   "metadata": {},
   "outputs": [],
   "source": [
    "config = setup_project(config_path)\n",
    "\n",
    "dataset_config = config[\"datasets\"]\n",
    "preds_config = dataset_config[\"preds\"]\n",
    "gts_config = dataset_config[\"gts\"]\n",
    "\n",
    "output_dir = Path(config[\"output_dir\"])\n",
    "output_dir.mkdir(exist_ok=True, parents=True)\n",
    "\n",
    "preds_dataset = DynamicDataset.from_config(preds_config)\n",
    "gts_dataset = DynamicDataset.from_config(gts_config)\n",
    "\n",
    "metrics = run_benchmark_suite(preds_dataset, gts_dataset)"
   ]
  }
 ],
 "metadata": {
  "language_info": {
   "name": "python"
  }
 },
 "nbformat": 4,
 "nbformat_minor": 2
}
