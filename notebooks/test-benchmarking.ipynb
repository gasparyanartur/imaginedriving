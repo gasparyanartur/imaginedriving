{
 "cells": [
  {
   "cell_type": "code",
   "execution_count": 3,
   "metadata": {},
   "outputs": [
    {
     "name": "stdout",
     "output_type": "stream",
     "text": [
      "The autoreload extension is already loaded. To reload it, use:\n",
      "  %reload_ext autoreload\n",
      "/proj/nlp4adas/users/x_ruiqi/nerf-thesis\n"
     ]
    }
   ],
   "source": [
    "%load_ext autoreload\n",
    "%autoreload 2 \n",
    "%cd /proj/nlp4adas/users/x_ruiqi/nerf-thesis/"
   ]
  },
  {
   "cell_type": "code",
   "execution_count": 4,
   "metadata": {},
   "outputs": [
    {
     "name": "stderr",
     "output_type": "stream",
     "text": [
      "Matplotlib created a temporary cache directory at /tmp/matplotlib-61q6m21k because the default path (/proj/nlp4adas/users/x_artga/nerf-thesis/.cache) is not a writable directory; it is highly recommended to set the MPLCONFIGDIR environment variable to a writable directory, in particular to speed up the import of Matplotlib and to better support multiprocessing.\n",
      "There was a problem when trying to write in your cache folder (/proj/nlp4adas/users/x_artga/nerf-thesis/.cache/hub). You should set the environment variable TRANSFORMERS_CACHE to a writable directory.\n",
      "Downloading: \"https://download.pytorch.org/models/squeezenet1_1-b8a52dc0.pth\" to /home/x_ruiqi/.cache/torch/hub/checkpoints/squeezenet1_1-b8a52dc0.pth\n",
      "100%|████████████████████████████████████████████████████████████████████████████████████████████████████████████████████████████████| 4.73M/4.73M [00:00<00:00, 40.5MB/s]\n"
     ]
    }
   ],
   "source": [
    "import pathlib as pl\n",
    "import matplotlib.pyplot as plt\n",
    "from src.benchmark import benchmark_img_to_img\n"
   ]
  },
  {
   "cell_type": "code",
   "execution_count": 5,
   "metadata": {},
   "outputs": [],
   "source": [
    "render_image_path = pl.Path(\"/proj/nlp4adas/users/x_ruiqi/nerf-thesis/renderer.jpg\")\n",
    "gt_img_path = pl.Path(\"/proj/nlp4adas/users/x_ruiqi/nerf-thesis/gt.jpg\")\n",
    "metrics_name = [\"psnr\", \"ssim\", \"fid\"]\n"
   ]
  },
  {
   "cell_type": "code",
   "execution_count": 61,
   "metadata": {},
   "outputs": [
    {
     "data": {
      "text/plain": [
       "{'psnr': tensor(25.5293), 'ssim': tensor(0.7354)}"
      ]
     },
     "execution_count": 61,
     "metadata": {},
     "output_type": "execute_result"
    }
   ],
   "source": [
    "result = benchmark_img_to_img(render_image_path, gt_img_path, metrics_name)\n",
    "result"
   ]
  },
  {
   "cell_type": "code",
   "execution_count": null,
   "metadata": {},
   "outputs": [],
   "source": []
  },
  {
   "cell_type": "code",
   "execution_count": null,
   "metadata": {},
   "outputs": [],
   "source": []
  }
 ],
 "metadata": {
  "kernelspec": {
   "display_name": "Python [conda env:env-diffusion] *",
   "language": "python",
   "name": "conda-env-env-diffusion-py"
  },
  "language_info": {
   "codemirror_mode": {
    "name": "ipython",
    "version": 3
   },
   "file_extension": ".py",
   "mimetype": "text/x-python",
   "name": "python",
   "nbconvert_exporter": "python",
   "pygments_lexer": "ipython3",
   "version": "3.11.8"
  }
 },
 "nbformat": 4,
 "nbformat_minor": 2
}
