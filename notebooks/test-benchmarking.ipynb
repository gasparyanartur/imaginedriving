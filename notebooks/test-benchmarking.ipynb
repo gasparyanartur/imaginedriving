{
 "cells": [
  {
   "cell_type": "code",
   "execution_count": 3,
   "metadata": {},
   "outputs": [
    {
     "name": "stdout",
     "output_type": "stream",
     "text": [
      "/home/s0001899/Dev/nerf-thesis\n"
     ]
    }
   ],
   "source": [
    "%load_ext autoreload\n",
    "%autoreload 2 \n",
    "%cd /home/s0001899/Dev/nerf-thesis/"
   ]
  },
  {
   "cell_type": "code",
   "execution_count": 4,
   "metadata": {},
   "outputs": [],
   "source": [
    "import pathlib as pl\n",
    "import matplotlib.pyplot as plt\n",
    "from src.benchmark import benchmark_img_to_img\n"
   ]
  },
  {
   "cell_type": "code",
   "execution_count": 19,
   "metadata": {},
   "outputs": [],
   "source": [
    "render_image_path = pl.Path(\"/home/s0001899/Dev/nerf-thesis/renderer.jpg\")\n",
    "gt_img_path = pl.Path(\"/home/s0001899/Dev/nerf-thesis/gt.jpg\")\n",
    "metrics_name = [\"psnr\", \"ssim\"]\n"
   ]
  },
  {
   "cell_type": "code",
   "execution_count": 61,
   "metadata": {},
   "outputs": [
    {
     "data": {
      "text/plain": [
       "{'psnr': tensor(25.5293), 'ssim': tensor(0.7354)}"
      ]
     },
     "execution_count": 61,
     "metadata": {},
     "output_type": "execute_result"
    }
   ],
   "source": [
    "result = benchmark_img_to_img(render_image_path, gt_img_path, metrics_name)\n",
    "result"
   ]
  },
  {
   "cell_type": "code",
   "execution_count": 28,
   "metadata": {},
   "outputs": [
    {
     "name": "stdout",
     "output_type": "stream",
     "text": [
      "{'test1': PosixPath('/home/s0001899/Dev/nerf-thesis/test/test1.jpg'), 'test3': PosixPath('/home/s0001899/Dev/nerf-thesis/test/test3.jpg'), 'renderer': PosixPath('/home/s0001899/Dev/nerf-thesis/test/renderer.jpg'), 'test2': PosixPath('/home/s0001899/Dev/nerf-thesis/test/test2.jpg'), 'gt': PosixPath('/home/s0001899/Dev/nerf-thesis/test/gt.jpg')}\n"
     ]
    },
    {
     "data": {
      "text/plain": [
       "{'renderer': {'psnr': tensor(inf), 'ssim': tensor(1.)},\n",
       " 'gt': {'psnr': tensor(inf), 'ssim': tensor(1.)}}"
      ]
     },
     "execution_count": 28,
     "metadata": {},
     "output_type": "execute_result"
    }
   ],
   "source": [
    "from src.benchmark import benchmark_dir_to_dir\n",
    "path_1 = pl.Path(\"/home/s0001899/Dev/nerf-thesis/test\")\n",
    "path_2 = pl.Path(\"/home/s0001899/Dev/nerf-thesis/\")\n",
    "\n",
    "results = benchmark_dir_to_dir(path_1, path_2, metrics_name)\n",
    "results"
   ]
  },
  {
   "cell_type": "code",
   "execution_count": null,
   "metadata": {},
   "outputs": [],
   "source": []
  },
  {
   "cell_type": "code",
   "execution_count": null,
   "metadata": {},
   "outputs": [],
   "source": []
  }
 ],
 "metadata": {
  "kernelspec": {
   "display_name": "Python 3 (ipykernel)",
   "language": "python",
   "name": "python3"
  },
  "language_info": {
   "codemirror_mode": {
    "name": "ipython",
    "version": 3
   },
   "file_extension": ".py",
   "mimetype": "text/x-python",
   "name": "python",
   "nbconvert_exporter": "python",
   "pygments_lexer": "ipython3",
   "version": "3.11.8"
  }
 },
 "nbformat": 4,
 "nbformat_minor": 2
}
